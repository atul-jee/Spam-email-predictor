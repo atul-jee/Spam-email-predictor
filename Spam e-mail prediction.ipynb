{
 "cells": [
  {
   "cell_type": "code",
   "execution_count": 1,
   "id": "30c87362",
   "metadata": {},
   "outputs": [],
   "source": [
    "import numpy as np\n",
    "import pandas as pd\n",
    "from sklearn.model_selection import train_test_split\n",
    "from sklearn.feature_extraction.text import TfidfVectorizer\n",
    "from sklearn.linear_model import LogisticRegression\n",
    "from sklearn.metrics import accuracy_score"
   ]
  },
  {
   "cell_type": "markdown",
   "id": "631fcada",
   "metadata": {},
   "source": [
    "Data collection & pre-procession"
   ]
  },
  {
   "cell_type": "code",
   "execution_count": 2,
   "id": "f4f61390",
   "metadata": {},
   "outputs": [],
   "source": [
    "mail_data = pd.read_csv(\"mail_data.csv\")"
   ]
  },
  {
   "cell_type": "code",
   "execution_count": 3,
   "id": "b5182bff",
   "metadata": {},
   "outputs": [],
   "source": [
    "m_data=mail_data.where((pd.notnull(mail_data)),\"\")"
   ]
  },
  {
   "cell_type": "code",
   "execution_count": 4,
   "id": "8cc3f796",
   "metadata": {},
   "outputs": [
    {
     "data": {
      "text/html": [
       "<div>\n",
       "<style scoped>\n",
       "    .dataframe tbody tr th:only-of-type {\n",
       "        vertical-align: middle;\n",
       "    }\n",
       "\n",
       "    .dataframe tbody tr th {\n",
       "        vertical-align: top;\n",
       "    }\n",
       "\n",
       "    .dataframe thead th {\n",
       "        text-align: right;\n",
       "    }\n",
       "</style>\n",
       "<table border=\"1\" class=\"dataframe\">\n",
       "  <thead>\n",
       "    <tr style=\"text-align: right;\">\n",
       "      <th></th>\n",
       "      <th>Category</th>\n",
       "      <th>Message</th>\n",
       "    </tr>\n",
       "  </thead>\n",
       "  <tbody>\n",
       "    <tr>\n",
       "      <th>0</th>\n",
       "      <td>ham</td>\n",
       "      <td>Go until jurong point, crazy.. Available only ...</td>\n",
       "    </tr>\n",
       "    <tr>\n",
       "      <th>1</th>\n",
       "      <td>ham</td>\n",
       "      <td>Ok lar... Joking wif u oni...</td>\n",
       "    </tr>\n",
       "    <tr>\n",
       "      <th>2</th>\n",
       "      <td>spam</td>\n",
       "      <td>Free entry in 2 a wkly comp to win FA Cup fina...</td>\n",
       "    </tr>\n",
       "    <tr>\n",
       "      <th>3</th>\n",
       "      <td>ham</td>\n",
       "      <td>U dun say so early hor... U c already then say...</td>\n",
       "    </tr>\n",
       "    <tr>\n",
       "      <th>4</th>\n",
       "      <td>ham</td>\n",
       "      <td>Nah I don't think he goes to usf, he lives aro...</td>\n",
       "    </tr>\n",
       "  </tbody>\n",
       "</table>\n",
       "</div>"
      ],
      "text/plain": [
       "  Category                                            Message\n",
       "0      ham  Go until jurong point, crazy.. Available only ...\n",
       "1      ham                      Ok lar... Joking wif u oni...\n",
       "2     spam  Free entry in 2 a wkly comp to win FA Cup fina...\n",
       "3      ham  U dun say so early hor... U c already then say...\n",
       "4      ham  Nah I don't think he goes to usf, he lives aro..."
      ]
     },
     "execution_count": 4,
     "metadata": {},
     "output_type": "execute_result"
    }
   ],
   "source": [
    "mail_data.head()"
   ]
  },
  {
   "cell_type": "code",
   "execution_count": 5,
   "id": "474cfcd1",
   "metadata": {},
   "outputs": [
    {
     "data": {
      "text/plain": [
       "(5572, 2)"
      ]
     },
     "execution_count": 5,
     "metadata": {},
     "output_type": "execute_result"
    }
   ],
   "source": [
    "m_data.shape"
   ]
  },
  {
   "cell_type": "markdown",
   "id": "4d6aa98b",
   "metadata": {},
   "source": [
    "#### Encoding"
   ]
  },
  {
   "cell_type": "markdown",
   "id": "0b6bdadf",
   "metadata": {},
   "source": [
    "###### spam mail be 0 and ham mail be 1"
   ]
  },
  {
   "cell_type": "code",
   "execution_count": 6,
   "id": "55be6c91",
   "metadata": {},
   "outputs": [],
   "source": [
    "m_data.loc[m_data[\"Category\"]==\"spam\",\"Category\",]=0\n",
    "m_data.loc[m_data[\"Category\"]==\"ham\",\"Category\",]=1"
   ]
  },
  {
   "cell_type": "code",
   "execution_count": 7,
   "id": "5301f694",
   "metadata": {},
   "outputs": [],
   "source": [
    "x=m_data['Message']\n",
    "y=m_data['Category']"
   ]
  },
  {
   "cell_type": "code",
   "execution_count": 8,
   "id": "9fb2f419",
   "metadata": {},
   "outputs": [
    {
     "data": {
      "text/plain": [
       "0       Go until jurong point, crazy.. Available only ...\n",
       "1                           Ok lar... Joking wif u oni...\n",
       "2       Free entry in 2 a wkly comp to win FA Cup fina...\n",
       "3       U dun say so early hor... U c already then say...\n",
       "4       Nah I don't think he goes to usf, he lives aro...\n",
       "                              ...                        \n",
       "5567    This is the 2nd time we have tried 2 contact u...\n",
       "5568                 Will ü b going to esplanade fr home?\n",
       "5569    Pity, * was in mood for that. So...any other s...\n",
       "5570    The guy did some bitching but I acted like i'd...\n",
       "5571                           Rofl. Its true to its name\n",
       "Name: Message, Length: 5572, dtype: object"
      ]
     },
     "execution_count": 8,
     "metadata": {},
     "output_type": "execute_result"
    }
   ],
   "source": [
    "x"
   ]
  },
  {
   "cell_type": "code",
   "execution_count": 9,
   "id": "55dc9ea7",
   "metadata": {},
   "outputs": [
    {
     "data": {
      "text/plain": [
       "0       1\n",
       "1       1\n",
       "2       0\n",
       "3       1\n",
       "4       1\n",
       "       ..\n",
       "5567    0\n",
       "5568    1\n",
       "5569    1\n",
       "5570    1\n",
       "5571    1\n",
       "Name: Category, Length: 5572, dtype: object"
      ]
     },
     "execution_count": 9,
     "metadata": {},
     "output_type": "execute_result"
    }
   ],
   "source": [
    "y"
   ]
  },
  {
   "cell_type": "markdown",
   "id": "f2494540",
   "metadata": {},
   "source": [
    "#### Splitting of data into training and testing data"
   ]
  },
  {
   "cell_type": "code",
   "execution_count": 10,
   "id": "3e4319a6",
   "metadata": {},
   "outputs": [],
   "source": [
    "x_train,x_test,y_train,y_test = train_test_split(x,y,test_size=0.2,random_state=30)"
   ]
  },
  {
   "cell_type": "code",
   "execution_count": 11,
   "id": "ef081c69",
   "metadata": {},
   "outputs": [
    {
     "name": "stdout",
     "output_type": "stream",
     "text": [
      "(4457,) (4457,)\n"
     ]
    }
   ],
   "source": [
    "print(x_train.shape,y_train.shape)"
   ]
  },
  {
   "cell_type": "code",
   "execution_count": 12,
   "id": "8745fc5e",
   "metadata": {},
   "outputs": [
    {
     "name": "stdout",
     "output_type": "stream",
     "text": [
      "(1115,) (1115,)\n"
     ]
    }
   ],
   "source": [
    "print(x_test.shape,y_test.shape)"
   ]
  },
  {
   "cell_type": "code",
   "execution_count": 13,
   "id": "b18d149e",
   "metadata": {},
   "outputs": [],
   "source": [
    " feature_extraction=TfidfVectorizer(min_df=1,stop_words=\"english\",lowercase=True)"
   ]
  },
  {
   "cell_type": "code",
   "execution_count": 14,
   "id": "27f2f5bd",
   "metadata": {},
   "outputs": [],
   "source": [
    " x_train_feature=feature_extraction.fit_transform(x_train)"
   ]
  },
  {
   "cell_type": "code",
   "execution_count": 15,
   "id": "fe1e392a",
   "metadata": {},
   "outputs": [],
   "source": [
    "x_test_feature=feature_extraction.transform(x_test)"
   ]
  },
  {
   "cell_type": "code",
   "execution_count": 16,
   "id": "183c1463",
   "metadata": {},
   "outputs": [],
   "source": [
    " y_train=y_train.astype('int')\n",
    "y_test=y_test.astype('int')"
   ]
  },
  {
   "cell_type": "code",
   "execution_count": 17,
   "id": "5248dbed",
   "metadata": {},
   "outputs": [
    {
     "name": "stdout",
     "output_type": "stream",
     "text": [
      "  (0, 3120)\t0.15385699018551377\n",
      "  (0, 1235)\t0.29250211761174144\n",
      "  (0, 2743)\t0.2748610620066683\n",
      "  (0, 7028)\t0.14551891463703287\n",
      "  (0, 1261)\t0.26290826073294066\n",
      "  (0, 7041)\t0.2748610620066683\n",
      "  (0, 6083)\t0.3008775588885774\n",
      "  (0, 3798)\t0.1403577243269406\n",
      "  (0, 5151)\t0.48093824769584653\n",
      "  (0, 3492)\t0.24656908838808692\n",
      "  (0, 4422)\t0.3116753806944408\n",
      "  (0, 969)\t0.25385651519436275\n",
      "  (0, 2152)\t0.1608124329503057\n",
      "  (0, 6192)\t0.17416773034777575\n",
      "  (0, 6774)\t0.17108945929034178\n",
      "  (1, 2721)\t0.4913977133642037\n",
      "  (1, 4774)\t0.6266027474302018\n",
      "  (1, 1684)\t0.6048944405541803\n",
      "  (2, 5983)\t0.45394428984107404\n",
      "  (2, 6480)\t0.5078258815242113\n",
      "  (2, 6739)\t0.31109260115535464\n",
      "  (2, 1411)\t0.5720951323851893\n",
      "  (2, 6774)\t0.33462816495688\n",
      "  (3, 7403)\t0.2771949360660805\n",
      "  (3, 3311)\t0.2875018185691604\n",
      "  :\t:\n",
      "  (4455, 4048)\t0.26320154504501186\n",
      "  (4455, 7045)\t0.20360201492640187\n",
      "  (4455, 5897)\t0.19326223321386882\n",
      "  (4455, 6954)\t0.19018842121927468\n",
      "  (4456, 320)\t0.23420039707273568\n",
      "  (4456, 589)\t0.22945679015262582\n",
      "  (4456, 3661)\t0.22945679015262582\n",
      "  (4456, 1575)\t0.22945679015262582\n",
      "  (4456, 5183)\t0.25553029173193126\n",
      "  (4456, 210)\t0.25553029173193126\n",
      "  (4456, 5587)\t0.23420039707273568\n",
      "  (4456, 4713)\t0.23420039707273568\n",
      "  (4456, 4564)\t0.2021522230838427\n",
      "  (4456, 2346)\t0.23420039707273568\n",
      "  (4456, 3006)\t0.20812689549343022\n",
      "  (4456, 3723)\t0.23420039707273568\n",
      "  (4456, 4299)\t0.20812689549343022\n",
      "  (4456, 7324)\t0.1987295285294384\n",
      "  (4456, 7110)\t0.23420039707273568\n",
      "  (4456, 7111)\t0.23420039707273568\n",
      "  (4456, 476)\t0.22945679015262582\n",
      "  (4456, 1940)\t0.20039331389357817\n",
      "  (4456, 4457)\t0.14525633605522512\n",
      "  (4456, 5129)\t0.17993030848245165\n",
      "  (4456, 7028)\t0.11930519063412909\n"
     ]
    }
   ],
   "source": [
    "print(x_train_feature)\n"
   ]
  },
  {
   "cell_type": "markdown",
   "id": "4b2875f1",
   "metadata": {},
   "source": [
    "### Training model"
   ]
  },
  {
   "cell_type": "code",
   "execution_count": 18,
   "id": "dc52a014",
   "metadata": {},
   "outputs": [],
   "source": [
    "model=LogisticRegression()"
   ]
  },
  {
   "cell_type": "code",
   "execution_count": 19,
   "id": "cf34ded7",
   "metadata": {},
   "outputs": [
    {
     "data": {
      "text/html": [
       "<style>#sk-container-id-1 {color: black;background-color: white;}#sk-container-id-1 pre{padding: 0;}#sk-container-id-1 div.sk-toggleable {background-color: white;}#sk-container-id-1 label.sk-toggleable__label {cursor: pointer;display: block;width: 100%;margin-bottom: 0;padding: 0.3em;box-sizing: border-box;text-align: center;}#sk-container-id-1 label.sk-toggleable__label-arrow:before {content: \"▸\";float: left;margin-right: 0.25em;color: #696969;}#sk-container-id-1 label.sk-toggleable__label-arrow:hover:before {color: black;}#sk-container-id-1 div.sk-estimator:hover label.sk-toggleable__label-arrow:before {color: black;}#sk-container-id-1 div.sk-toggleable__content {max-height: 0;max-width: 0;overflow: hidden;text-align: left;background-color: #f0f8ff;}#sk-container-id-1 div.sk-toggleable__content pre {margin: 0.2em;color: black;border-radius: 0.25em;background-color: #f0f8ff;}#sk-container-id-1 input.sk-toggleable__control:checked~div.sk-toggleable__content {max-height: 200px;max-width: 100%;overflow: auto;}#sk-container-id-1 input.sk-toggleable__control:checked~label.sk-toggleable__label-arrow:before {content: \"▾\";}#sk-container-id-1 div.sk-estimator input.sk-toggleable__control:checked~label.sk-toggleable__label {background-color: #d4ebff;}#sk-container-id-1 div.sk-label input.sk-toggleable__control:checked~label.sk-toggleable__label {background-color: #d4ebff;}#sk-container-id-1 input.sk-hidden--visually {border: 0;clip: rect(1px 1px 1px 1px);clip: rect(1px, 1px, 1px, 1px);height: 1px;margin: -1px;overflow: hidden;padding: 0;position: absolute;width: 1px;}#sk-container-id-1 div.sk-estimator {font-family: monospace;background-color: #f0f8ff;border: 1px dotted black;border-radius: 0.25em;box-sizing: border-box;margin-bottom: 0.5em;}#sk-container-id-1 div.sk-estimator:hover {background-color: #d4ebff;}#sk-container-id-1 div.sk-parallel-item::after {content: \"\";width: 100%;border-bottom: 1px solid gray;flex-grow: 1;}#sk-container-id-1 div.sk-label:hover label.sk-toggleable__label {background-color: #d4ebff;}#sk-container-id-1 div.sk-serial::before {content: \"\";position: absolute;border-left: 1px solid gray;box-sizing: border-box;top: 0;bottom: 0;left: 50%;z-index: 0;}#sk-container-id-1 div.sk-serial {display: flex;flex-direction: column;align-items: center;background-color: white;padding-right: 0.2em;padding-left: 0.2em;position: relative;}#sk-container-id-1 div.sk-item {position: relative;z-index: 1;}#sk-container-id-1 div.sk-parallel {display: flex;align-items: stretch;justify-content: center;background-color: white;position: relative;}#sk-container-id-1 div.sk-item::before, #sk-container-id-1 div.sk-parallel-item::before {content: \"\";position: absolute;border-left: 1px solid gray;box-sizing: border-box;top: 0;bottom: 0;left: 50%;z-index: -1;}#sk-container-id-1 div.sk-parallel-item {display: flex;flex-direction: column;z-index: 1;position: relative;background-color: white;}#sk-container-id-1 div.sk-parallel-item:first-child::after {align-self: flex-end;width: 50%;}#sk-container-id-1 div.sk-parallel-item:last-child::after {align-self: flex-start;width: 50%;}#sk-container-id-1 div.sk-parallel-item:only-child::after {width: 0;}#sk-container-id-1 div.sk-dashed-wrapped {border: 1px dashed gray;margin: 0 0.4em 0.5em 0.4em;box-sizing: border-box;padding-bottom: 0.4em;background-color: white;}#sk-container-id-1 div.sk-label label {font-family: monospace;font-weight: bold;display: inline-block;line-height: 1.2em;}#sk-container-id-1 div.sk-label-container {text-align: center;}#sk-container-id-1 div.sk-container {/* jupyter's `normalize.less` sets `[hidden] { display: none; }` but bootstrap.min.css set `[hidden] { display: none !important; }` so we also need the `!important` here to be able to override the default hidden behavior on the sphinx rendered scikit-learn.org. See: https://github.com/scikit-learn/scikit-learn/issues/21755 */display: inline-block !important;position: relative;}#sk-container-id-1 div.sk-text-repr-fallback {display: none;}</style><div id=\"sk-container-id-1\" class=\"sk-top-container\"><div class=\"sk-text-repr-fallback\"><pre>LogisticRegression()</pre><b>In a Jupyter environment, please rerun this cell to show the HTML representation or trust the notebook. <br />On GitHub, the HTML representation is unable to render, please try loading this page with nbviewer.org.</b></div><div class=\"sk-container\" hidden><div class=\"sk-item\"><div class=\"sk-estimator sk-toggleable\"><input class=\"sk-toggleable__control sk-hidden--visually\" id=\"sk-estimator-id-1\" type=\"checkbox\" checked><label for=\"sk-estimator-id-1\" class=\"sk-toggleable__label sk-toggleable__label-arrow\">LogisticRegression</label><div class=\"sk-toggleable__content\"><pre>LogisticRegression()</pre></div></div></div></div></div>"
      ],
      "text/plain": [
       "LogisticRegression()"
      ]
     },
     "execution_count": 19,
     "metadata": {},
     "output_type": "execute_result"
    }
   ],
   "source": [
    "model.fit(x_train_feature,y_train)"
   ]
  },
  {
   "cell_type": "markdown",
   "id": "6a01743c",
   "metadata": {},
   "source": [
    "### Evaluating model"
   ]
  },
  {
   "cell_type": "code",
   "execution_count": 20,
   "id": "007de391",
   "metadata": {},
   "outputs": [],
   "source": [
    "y_pred=model.predict(x_train_feature)"
   ]
  },
  {
   "cell_type": "code",
   "execution_count": 21,
   "id": "c929ec4c",
   "metadata": {},
   "outputs": [],
   "source": [
    "training_accuracy=accuracy_score(y_train,y_pred)"
   ]
  },
  {
   "cell_type": "code",
   "execution_count": 22,
   "id": "ef38abfe",
   "metadata": {},
   "outputs": [
    {
     "name": "stdout",
     "output_type": "stream",
     "text": [
      "ACCURACY ON TRAINING DATA: 0.9672425398249944\n"
     ]
    }
   ],
   "source": [
    "print(\"ACCURACY ON TRAINING DATA:\",training_accuracy)"
   ]
  },
  {
   "cell_type": "code",
   "execution_count": 23,
   "id": "f93f0566",
   "metadata": {},
   "outputs": [],
   "source": [
    "y_test_pred=model.predict(x_test_feature)"
   ]
  },
  {
   "cell_type": "code",
   "execution_count": 24,
   "id": "186cffd4",
   "metadata": {},
   "outputs": [],
   "source": [
    "test_accuracy=accuracy_score(y_test,y_test_pred)"
   ]
  },
  {
   "cell_type": "code",
   "execution_count": 25,
   "id": "02f8607d",
   "metadata": {},
   "outputs": [
    {
     "name": "stdout",
     "output_type": "stream",
     "text": [
      "Accuracy on test data: 0.9668161434977578\n"
     ]
    }
   ],
   "source": [
    "print(\"Accuracy on test data:\",test_accuracy)"
   ]
  },
  {
   "cell_type": "code",
   "execution_count": 38,
   "id": "5a82e494",
   "metadata": {},
   "outputs": [],
   "source": [
    "def main():\n",
    "    input_mail=[(input(\"Enter mail:\"))]\n",
    "    input_data_features=feature_extraction.transform(input_mail)\n",
    "    prediction=model.predict(input_data_features)\n",
    "    if prediction[0]==1:\n",
    "        print(\"Ham mail\")\n",
    "    else:\n",
    "        print(\"Spam mail\")"
   ]
  },
  {
   "cell_type": "code",
   "execution_count": 40,
   "id": "0f71b5f1",
   "metadata": {},
   "outputs": [
    {
     "name": "stdout",
     "output_type": "stream",
     "text": [
      "Enter mail:\n",
      "Ham mail\n"
     ]
    }
   ],
   "source": [
    "main()"
   ]
  }
 ],
 "metadata": {
  "kernelspec": {
   "display_name": "Python 3 (ipykernel)",
   "language": "python",
   "name": "python3"
  },
  "language_info": {
   "codemirror_mode": {
    "name": "ipython",
    "version": 3
   },
   "file_extension": ".py",
   "mimetype": "text/x-python",
   "name": "python",
   "nbconvert_exporter": "python",
   "pygments_lexer": "ipython3",
   "version": "3.10.9"
  }
 },
 "nbformat": 4,
 "nbformat_minor": 5
}
